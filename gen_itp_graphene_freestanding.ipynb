{
 "cells": [
  {
   "cell_type": "code",
   "execution_count": 1,
   "metadata": {},
   "outputs": [],
   "source": [
    "from itp_common import Atom, Compound\n",
    "import itertools, argparse"
   ]
  },
  {
   "cell_type": "code",
   "execution_count": 2,
   "metadata": {},
   "outputs": [],
   "source": [
    "parser = argparse.ArgumentParser()\n",
    "parser.add_argument('-s', '--size', nargs = 2, type = int, \n",
    "                    help = 'size of the graphene sheet (carbon atoms in each lateral direction)')\n",
    "parser.add_argument('-o', '--output', default = 'graphene.itp', help = 'name of the output file')\n",
    "try:\n",
    "    __IPYTHON__\n",
    "    args = parser.parse_args(['-s', '4','4'])\n",
    "except NameError:\n",
    "    args = parser.parse_args()"
   ]
  },
  {
   "cell_type": "code",
   "execution_count": 3,
   "metadata": {},
   "outputs": [],
   "source": [
    "class graphene(Compound):\n",
    "    def __init__(self, size, name = 'GPH'):\n",
    "        Atom.clear_index()\n",
    "        self.size = size\n",
    "        self.frame = {}\n",
    "        super(graphene, self).__init__(name)\n",
    "    def add_atoms(self):\n",
    "        for i, j in itertools.product(*[range(_) for _ in self.size]):\n",
    "            atom = Atom('CG')\n",
    "            atom.assign_cgroup()\n",
    "            self.atoms[atom.index] = atom\n",
    "            self.frame[(i, j)] = atom\n",
    "            # vertical bonds\n",
    "            if j == self.size[1]-1:\n",
    "                self.add_bond(atom, self.frame[(i, 0)])\n",
    "            if j != 0:\n",
    "                self.add_bond(atom, self.frame[(i, j-1)])\n",
    "            # horizontal bonds\n",
    "            if i != 0 and ((i%2 == j%2 == 0) or (i%2 == j%2 == 1)):\n",
    "                self.add_bond(atom, self.frame[(i-1, j)])\n",
    "    def _add_improper_dihedrals(self):\n",
    "        for atom in self.atoms.values():\n",
    "            if len(atom.neighbors) == 3:\n",
    "                self.improp.append(tuple([atom.index]+atom.neighbors))\n",
    "    def gen_itp(self):\n",
    "        self.add_atoms()\n",
    "        self.add_angles()\n",
    "        self.add_dihedrals(improper = True)\n",
    "    "
   ]
  },
  {
   "cell_type": "code",
   "execution_count": 4,
   "metadata": {},
   "outputs": [],
   "source": [
    "temp = graphene(size = args.size)\n",
    "temp.write_itp(para = {'CG': (0.0153333, 12.011)}, filename = args.output)"
   ]
  }
 ],
 "metadata": {
  "kernelspec": {
   "display_name": "Python 3",
   "language": "python",
   "name": "python3"
  },
  "language_info": {
   "codemirror_mode": {
    "name": "ipython",
    "version": 3
   },
   "file_extension": ".py",
   "mimetype": "text/x-python",
   "name": "python",
   "nbconvert_exporter": "python",
   "pygments_lexer": "ipython3",
   "version": "3.6.4"
  }
 },
 "nbformat": 4,
 "nbformat_minor": 2
}
